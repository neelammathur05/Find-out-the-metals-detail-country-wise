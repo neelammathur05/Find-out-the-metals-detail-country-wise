{
 "cells": [
  {
   "cell_type": "code",
   "execution_count": 8,
   "metadata": {},
   "outputs": [],
   "source": [
    "import numpy as np\n",
    "country = np.array(['Great Britain','China','Russia','United States','Korea','Japan','Germany'])\n",
    "gold = np.array([29,38,24,46,13,7,11])\n",
    "silver = np.array([17,28,25,28,8,14,11])\n",
    "bronze =  np.array([19,22,32,29,7,17,14])\n"
   ]
  },
  {
   "cell_type": "raw",
   "metadata": {},
   "source": [
    "Find and print the name of the country with the highest Gold medal \n",
    "Find and print the name of the country with the less gold medals \n",
    "find out the country name which have less than 20 gold medal.\n",
    "Print out the entire list of the countries with their gold medal and total medals. "
   ]
  },
  {
   "cell_type": "code",
   "execution_count": 21,
   "metadata": {},
   "outputs": [
    {
     "data": {
      "text/plain": [
       "'United States'"
      ]
     },
     "execution_count": 21,
     "metadata": {},
     "output_type": "execute_result"
    }
   ],
   "source": [
    "max_gold_m = gold.argmax()\n",
    "max_gold_country = country[max_gold_m]\n",
    "max_gold_country\n"
   ]
  },
  {
   "cell_type": "code",
   "execution_count": 24,
   "metadata": {},
   "outputs": [
    {
     "data": {
      "text/plain": [
       "'United States'"
      ]
     },
     "execution_count": 24,
     "metadata": {},
     "output_type": "execute_result"
    }
   ],
   "source": [
    "#another method \n",
    "max_g = country.item(gold.argmax())\n",
    "max_g"
   ]
  },
  {
   "cell_type": "code",
   "execution_count": 25,
   "metadata": {},
   "outputs": [
    {
     "data": {
      "text/plain": [
       "'Japan'"
      ]
     },
     "execution_count": 25,
     "metadata": {},
     "output_type": "execute_result"
    }
   ],
   "source": [
    "min_gold_m = gold.argmin()\n",
    "min_gold_country = country[min_gold_m]\n",
    "min_gold_country"
   ]
  },
  {
   "cell_type": "code",
   "execution_count": 27,
   "metadata": {},
   "outputs": [
    {
     "data": {
      "text/plain": [
       "array(['Korea', 'Japan', 'Germany'], dtype='<U13')"
      ]
     },
     "execution_count": 27,
     "metadata": {},
     "output_type": "execute_result"
    }
   ],
   "source": [
    "less_than_20_gold = gold<20\n",
    "less_than_20_gold\n",
    "less_than_20_gold_country = country[less_than_20_gold]\n",
    "less_than_20_gold_country"
   ]
  },
  {
   "cell_type": "code",
   "execution_count": 40,
   "metadata": {},
   "outputs": [
    {
     "name": "stdout",
     "output_type": "stream",
     "text": [
      "Country Name :- Great Britain,  total Gold medal:- 29 and total metals:- 65\n",
      "Country Name :- China,  total Gold medal:- 38 and total metals:- 88\n",
      "Country Name :- Russia,  total Gold medal:- 24 and total metals:- 81\n",
      "Country Name :- United States,  total Gold medal:- 46 and total metals:- 103\n",
      "Country Name :- Korea,  total Gold medal:- 13 and total metals:- 28\n",
      "Country Name :- Japan,  total Gold medal:- 7 and total metals:- 38\n",
      "Country Name :- Germany,  total Gold medal:- 11 and total metals:- 36\n"
     ]
    }
   ],
   "source": [
    "for i in range(len(country)):\n",
    "    total_gold = gold[i]\n",
    "    all_country = country[i]\n",
    "    total_medals = gold[i]+silver[i]+bronze[i]\n",
    "    print('Country Name :- {},  total Gold medal:- {} and total metals:- {}'.format(all_country ,total_gold, total_medals))"
   ]
  },
  {
   "cell_type": "code",
   "execution_count": null,
   "metadata": {},
   "outputs": [],
   "source": []
  }
 ],
 "metadata": {
  "kernelspec": {
   "display_name": "Python 3",
   "language": "python",
   "name": "python3"
  },
  "language_info": {
   "codemirror_mode": {
    "name": "ipython",
    "version": 3
   },
   "file_extension": ".py",
   "mimetype": "text/x-python",
   "name": "python",
   "nbconvert_exporter": "python",
   "pygments_lexer": "ipython3",
   "version": "3.7.6"
  }
 },
 "nbformat": 4,
 "nbformat_minor": 4
}
